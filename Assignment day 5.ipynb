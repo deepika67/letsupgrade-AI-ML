{
 "cells": [
  {
   "cell_type": "markdown",
   "metadata": {},
   "source": [
    "Q1."
   ]
  },
  {
   "cell_type": "code",
   "execution_count": 30,
   "metadata": {},
   "outputs": [
    {
     "name": "stdout",
     "output_type": "stream",
     "text": [
      "[3, 5, 7, 11, 13, 17, 19, 23, 29, 31, 37, 41, 43, 47, 53, 59, 61, 67, 71, 73]\n"
     ]
    }
   ],
   "source": [
    "lst=[]\n",
    "for val in range(1,100):\n",
    "    if val>1:\n",
    "        for n in range(2,val//2+2):\n",
    "            if val%n==0:\n",
    "                break\n",
    "            else:\n",
    "                if n==val//2+1:\n",
    "                    if len(lst)<20:\n",
    "                        lst.append(val)\n",
    "print(lst)"
   ]
  },
  {
   "cell_type": "markdown",
   "metadata": {},
   "source": [
    "Q2.Write a program to implement 15 functions of string"
   ]
  },
  {
   "cell_type": "code",
   "execution_count": 60,
   "metadata": {},
   "outputs": [
    {
     "name": "stdout",
     "output_type": "stream",
     "text": [
      "Using capitalize() method: Hello, i m writing program to implement different functions of string\n",
      "Using center() method: 6\n",
      "Using encode() method: b'hello, i m writing program to implement different functions of string'\n",
      "Using endswith() method: False\n",
      "Using expandtabs() method: h    e    l    l    o    \n",
      "Using find() method: 19\n",
      "Using index() method: 27\n",
      "Using isalpha() method: False\n",
      "Using islower() method: True\n",
      "Using isprintable() method: True\n",
      "Using isspace() method: False\n",
      "Using isupper() method: False\n",
      "Using title() method: Hello, I M Writing Program To Implement Different Functions Of String\n",
      "Using upper() method: HELLO, I M WRITING PROGRAM TO IMPLEMENT DIFFERENT FUNCTIONS OF STRING\n"
     ]
    }
   ],
   "source": [
    "text= \"hello, i m writing program to implement different functions of string\"\n",
    "text1=\"h\\te\\tl\\tl\\to\\t\"\n",
    "first=text.capitalize()\n",
    "print(\"Using capitalize() method:\",first)\n",
    "second=text.count(\"t\")\n",
    "print(\"Using center() method:\",second)\n",
    "third=text.encode()\n",
    "print(\"Using encode() method:\",third)\n",
    "fourth=text.endswith(\".\")\n",
    "print(\"Using endswith() method:\",fourth)\n",
    "fifth=text1.expandtabs(5)\n",
    "print(\"Using expandtabs() method:\",fifth)\n",
    "sixth=text.find(\"program\")\n",
    "print(\"Using find() method:\",sixth)\n",
    "seventh=text.index(\"to\")\n",
    "print(\"Using index() method:\",seventh)\n",
    "eighth=text.isalpha()\n",
    "print(\"Using isalpha() method:\",eighth)\n",
    "nine=text.islower()\n",
    "print(\"Using islower() method:\",nine)\n",
    "tenth=text.isprintable()\n",
    "print(\"Using isprintable() method:\",tenth)\n",
    "eleven=text.isspace()\n",
    "print(\"Using isspace() method:\",eleven)\n",
    "twelve=text.isupper()\n",
    "print(\"Using isupper() method:\",twelve)\n",
    "thirteen=text.title()\n",
    "print(\"Using title() method:\",thirteen)\n",
    "fourteen=text.upper()\n",
    "print(\"Using upper() method:\",fourteen)"
   ]
  },
  {
   "cell_type": "markdown",
   "metadata": {},
   "source": [
    "Q3.Write a python program to check if the given string is a palindrome or anagram or none of them.Display the message accordingly to the user"
   ]
  },
  {
   "cell_type": "code",
   "execution_count": 8,
   "metadata": {},
   "outputs": [
    {
     "name": "stdout",
     "output_type": "stream",
     "text": [
      "Enter the string:malayalam\n",
      "yes string is palindrome!!!!\n"
     ]
    }
   ],
   "source": [
    "def isPalindrome(s):\n",
    "    return s==s[::-1]\n",
    "\n",
    "string1= input(\"Enter the string:\")\n",
    "string2=string[::-1]\n",
    "abc=isPalindrome(string1)\n",
    "if abc:\n",
    "    print(\"yes string is palindrome!!!!\")\n",
    "elif sorted(string1)==sorted(string2):\n",
    "    print(\"string is Anagram\")\n",
    "else:\n",
    "    print(\"string is none\")\n",
    "    \n"
   ]
  },
  {
   "cell_type": "markdown",
   "metadata": {},
   "source": [
    "Q4. Write a user define function that removes all the additional characters from the string and convert it finally to lower case using built-in lower()"
   ]
  },
  {
   "cell_type": "code",
   "execution_count": 16,
   "metadata": {},
   "outputs": [],
   "source": [
    "def removeSC(string):\n",
    "    #string=input(\"Enter the string:\")\n",
    "    alphanumeric=\"\"\n",
    "\n",
    "    for char in string:\n",
    "        if char.isalnum():\n",
    "            alphanumeric+=char\n",
    "    print(alphanumeric.lower())\n"
   ]
  },
  {
   "cell_type": "code",
   "execution_count": 18,
   "metadata": {},
   "outputs": [
    {
     "name": "stdout",
     "output_type": "stream",
     "text": [
      "deepikabajajgmailcom\n"
     ]
    }
   ],
   "source": [
    "removeSC(\"Deepika Bajaj @ GMAIL.COM\")"
   ]
  },
  {
   "cell_type": "code",
   "execution_count": null,
   "metadata": {},
   "outputs": [],
   "source": []
  }
 ],
 "metadata": {
  "kernelspec": {
   "display_name": "Python 3",
   "language": "python",
   "name": "python3"
  },
  "language_info": {
   "codemirror_mode": {
    "name": "ipython",
    "version": 3
   },
   "file_extension": ".py",
   "mimetype": "text/x-python",
   "name": "python",
   "nbconvert_exporter": "python",
   "pygments_lexer": "ipython3",
   "version": "3.7.6"
  }
 },
 "nbformat": 4,
 "nbformat_minor": 4
}

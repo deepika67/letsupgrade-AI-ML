{
 "cells": [
  {
   "cell_type": "markdown",
   "metadata": {},
   "source": [
    "Q1.Reasearch on whether addition,substraction,multiplication,division,floor division,and modulo operations be performed on complex number.Based on study,implement a python program to demonstrate these operations"
   ]
  },
  {
   "cell_type": "code",
   "execution_count": 12,
   "metadata": {},
   "outputs": [
    {
     "name": "stdout",
     "output_type": "stream",
     "text": [
      "Addition of two complex number: (2+3j) And (1+2j) Is: (3+5j)\n",
      "Substraction of two complex numbers: (2+3j) And (1+2j) Is: (1+1j)\n",
      "Multiplication of two complex number: (2+3j) And (1+2j) Is: (-4+7j)\n",
      "Division of two complex number: (2+3j) And (1+2j) Is: (1.6-0.2j)\n",
      "floor divison and modulo operation can't be implemenetd on complex number\n"
     ]
    }
   ],
   "source": [
    "z1=2+3j\n",
    "z2=1+2j\n",
    "add=z1+z2\n",
    "sub=z1-z2\n",
    "mul=z1*z2\n",
    "div=z1/z2\n",
    "print(\"Addition of two complex number:\",z1,\"And\",z2,\"Is:\",add)\n",
    "print(\"Substraction of two complex numbers:\",z1,\"And\",z2,\"Is:\",sub)\n",
    "print(\"Multiplication of two complex number:\",z1,\"And\",z2,\"Is:\",mul)\n",
    "print(\"Division of two complex number:\",z1,\"And\",z2,\"Is:\",div)\n",
    "print(\"floor divison and modulo operation can't be implemenetd on complex number\")"
   ]
  },
  {
   "cell_type": "markdown",
   "metadata": {},
   "source": [
    "Q2.reasearch on range() function and its parameters.create a markdown cell and write in your own words what you understand about it.Implement a small program of your choice on same"
   ]
  },
  {
   "cell_type": "markdown",
   "metadata": {},
   "source": [
    "#range function description:       \n",
    "1.range() function is used to generate a sequence of number   \n",
    "2.it produces the number one by one in loop format   \n",
    "3.it allows the users to generate the sequences whenever required.   \n",
    "4.range() function have 3 arguments all 3 are not madatory but atleast 1 argument should be passed.   \n",
    "5.arguments of range()function are:-   \n",
    "*start:-starting number of the sequence    \n",
    "ex:-range(10)   \n",
    "it will print from 0 to 9    \n",
    "*stop:-end of the sequence:-    \n",
    "range(1,10)   \n",
    "this will print from 1 to 9    \n",
    "*step::- number that is used to increemnt the previous number    \n",
    "range(1,10,2)    \n",
    "it will print number by taking 2 iteration i.e 1,3,5,7,9    \n"
   ]
  },
  {
   "cell_type": "code",
   "execution_count": 20,
   "metadata": {},
   "outputs": [
    {
     "name": "stdout",
     "output_type": "stream",
     "text": [
      "number is odd: 1\n",
      "number is even: 2\n",
      "number is odd: 3\n",
      "number is even: 4\n",
      "number is odd: 5\n",
      "number is even: 6\n",
      "number is odd: 7\n",
      "number is even: 8\n",
      "number is odd: 9\n",
      "number is even: 10\n",
      "number is odd: 11\n",
      "number is even: 12\n",
      "number is odd: 13\n",
      "number is even: 14\n",
      "number is odd: 15\n",
      "number is even: 16\n",
      "number is odd: 17\n",
      "number is even: 18\n",
      "number is odd: 19\n",
      "number is even: 20\n",
      "number is odd: 21\n",
      "number is even: 22\n",
      "number is odd: 23\n",
      "number is even: 24\n",
      "number is odd: 25\n",
      "number is even: 26\n",
      "number is odd: 27\n",
      "number is even: 28\n",
      "number is odd: 29\n"
     ]
    }
   ],
   "source": [
    "#program using range() function\n",
    "for i in range(1,30):\n",
    "    if i%2==0:\n",
    "        print(\"number is even:\",i)\n",
    "    else:\n",
    "        print(\"number is odd:\",i)"
   ]
  },
  {
   "cell_type": "markdown",
   "metadata": {},
   "source": [
    "Q3.Consider two numbers.perform their substraction and if the result of substraction is greater than 25,print multiplication result else print their division result  "
   ]
  },
  {
   "cell_type": "code",
   "execution_count": 22,
   "metadata": {},
   "outputs": [
    {
     "name": "stdout",
     "output_type": "stream",
     "text": [
      "Enter first number:25\n",
      "Enter second number:5\n",
      "5.0\n"
     ]
    }
   ],
   "source": [
    "a=int(input(\"Enter first number:\"))\n",
    "b=int(input(\"Enter second number:\"))\n",
    "c=a-b\n",
    "if c>25:\n",
    "    print(a*b)\n",
    "else:\n",
    "    print(a/b)"
   ]
  },
  {
   "cell_type": "markdown",
   "metadata": {},
   "source": [
    "Q4.Consider a list of 10 elements of integer values. if the number in the list is divisible by 2 print the result as square of that number minus 2  "
   ]
  },
  {
   "cell_type": "code",
   "execution_count": 26,
   "metadata": {},
   "outputs": [
    {
     "name": "stdout",
     "output_type": "stream",
     "text": [
      "list is: [11, 12, 13, 14, 15, 16, 17, 18, 19, 20]\n",
      "list of numbers from given list which are divisible by 2 there square minus two\n",
      "[142, 194, 254, 322, 398]\n"
     ]
    }
   ],
   "source": [
    "lst=[11,12,13,14,15,16,17,18,19,20]\n",
    "print(\"list is:\",lst)\n",
    "lst2=[]\n",
    "n=2\n",
    "for i in range(0,len(lst)):\n",
    "    if lst[i]%n==0:\n",
    "        abc=lst[i]**2-2\n",
    "        lst2.append(abc)\n",
    "print(\"list of numbers from given list which are divisible by 2 there square minus two:\")\n",
    "print(lst2)\n",
    "\n",
    "    "
   ]
  },
  {
   "cell_type": "markdown",
   "metadata": {},
   "source": [
    "Q5.Consider a list of 10 elements. print all the elements in the list which are greater than 7 when that number is divided by 2"
   ]
  },
  {
   "cell_type": "code",
   "execution_count": 41,
   "metadata": {},
   "outputs": [
    {
     "name": "stdout",
     "output_type": "stream",
     "text": [
      "[15, 16, 17, 18, 19, 20]\n"
     ]
    }
   ],
   "source": [
    "lst=[11,12,13,14,15,16,17,18,19,20]\n",
    "reslst=[]\n",
    "n=2\n",
    "for i in range(0,len(lst)):\n",
    "    abc=lst[i]/2 \n",
    "    if abc>7 :\n",
    "        reslst.append(lst[i])\n",
    "print(reslst)\n",
    "        "
   ]
  },
  {
   "cell_type": "code",
   "execution_count": null,
   "metadata": {},
   "outputs": [],
   "source": []
  }
 ],
 "metadata": {
  "kernelspec": {
   "display_name": "Python 3",
   "language": "python",
   "name": "python3"
  },
  "language_info": {
   "codemirror_mode": {
    "name": "ipython",
    "version": 3
   },
   "file_extension": ".py",
   "mimetype": "text/x-python",
   "name": "python",
   "nbconvert_exporter": "python",
   "pygments_lexer": "ipython3",
   "version": "3.7.6"
  }
 },
 "nbformat": 4,
 "nbformat_minor": 4
}

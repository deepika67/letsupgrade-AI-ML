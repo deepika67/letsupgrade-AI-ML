{
 "cells": [
  {
   "cell_type": "markdown",
   "metadata": {},
   "source": [
    "Q1.\n"
   ]
  },
  {
   "cell_type": "code",
   "execution_count": 54,
   "metadata": {},
   "outputs": [
    {
     "name": "stdout",
     "output_type": "stream",
     "text": [
      "enter the email address:deepika@google.com\n",
      "Given email is: deepika@google.com\n",
      "company name is: google\n"
     ]
    }
   ],
   "source": [
    "email=(input(\"enter the email address:\"))\n",
    "splitword='@'\n",
    "split='.'\n",
    "print(\"Given email is:\",email)\n",
    "res=email.partition(splitword)[2]\n",
    "companyname=res.partition(split)[0]\n",
    "print(\"company name is:\",companyname)"
   ]
  },
  {
   "cell_type": "markdown",
   "metadata": {},
   "source": [
    "Q2"
   ]
  },
  {
   "cell_type": "code",
   "execution_count": 14,
   "metadata": {},
   "outputs": [
    {
     "name": "stdout",
     "output_type": "stream",
     "text": [
      "enter the elements:without\n",
      "enter the elements:hello\n",
      "enter the elements:bag\n",
      "enter the elements:world\n",
      "original list is: ['without', 'hello', 'bag', 'world']\n",
      "Sorted list is: ['bag', 'hello', 'without', 'world']\n"
     ]
    }
   ],
   "source": [
    "lst=[]\n",
    "for i in range(1,5):\n",
    "    string=input(\"enter the elements:\")\n",
    "    lst.append(string)\n",
    "print(\"original list is:\",lst)\n",
    "lst.sort()\n",
    "print(\"Sorted list is:\",lst)"
   ]
  },
  {
   "cell_type": "markdown",
   "metadata": {},
   "source": [
    "Q3."
   ]
  },
  {
   "cell_type": "markdown",
   "metadata": {},
   "source": [
    "Sets in python:-\n",
    "-Set is a collection which is unordered and unindexed.\n",
    "-In python sets are written with curly brackets"
   ]
  },
  {
   "cell_type": "code",
   "execution_count": 16,
   "metadata": {},
   "outputs": [
    {
     "name": "stdout",
     "output_type": "stream",
     "text": [
      "{'two', 'one', 'three'}\n"
     ]
    }
   ],
   "source": [
    "thisset={\"one\",\"two\",\"three\"}\n",
    "print(thisset)"
   ]
  },
  {
   "cell_type": "code",
   "execution_count": 17,
   "metadata": {},
   "outputs": [
    {
     "name": "stdout",
     "output_type": "stream",
     "text": [
      "two\n",
      "one\n",
      "four\n",
      "three\n"
     ]
    }
   ],
   "source": [
    "#loop through th set, and print the value\n",
    "thisset={\"one\",\"two\",\"three\",\"four\"}\n",
    "for x in thisset:\n",
    "    print(x)"
   ]
  },
  {
   "cell_type": "code",
   "execution_count": 23,
   "metadata": {},
   "outputs": [
    {
     "name": "stdout",
     "output_type": "stream",
     "text": [
      "{'two', 'one', 'four', 'three'}\n"
     ]
    }
   ],
   "source": [
    "#to find particular element from the set\n",
    "thisset={\"one\",\"two\",\"three\",\"four\"}\n",
    "print(\"two\" in thisset)"
   ]
  },
  {
   "cell_type": "code",
   "execution_count": 24,
   "metadata": {},
   "outputs": [
    {
     "name": "stdout",
     "output_type": "stream",
     "text": [
      "{'two', 'one', 'four', 'five', 'three'}\n"
     ]
    }
   ],
   "source": [
    "#add item in set\n",
    "#for adding single element in set add()method is used\n",
    "#for adding more then one element update()method is used\n",
    "thisset={\"one\",\"two\",\"three\",\"four\"}\n",
    "thisset.add(\"five\")\n",
    "print(thisset)"
   ]
  },
  {
   "cell_type": "code",
   "execution_count": 25,
   "metadata": {},
   "outputs": [
    {
     "name": "stdout",
     "output_type": "stream",
     "text": [
      "{'two', 'one', 'four', 'nine', 'six', 'eight', 'three', 'seven'}\n"
     ]
    }
   ],
   "source": [
    "#update()method:\n",
    "thisset={\"one\",\"two\",\"three\",\"four\"}\n",
    "thisset.update([\"six\",\"seven\",\"eight\",\"nine\"])\n",
    "print(thisset)"
   ]
  },
  {
   "cell_type": "code",
   "execution_count": 27,
   "metadata": {},
   "outputs": [
    {
     "name": "stdout",
     "output_type": "stream",
     "text": [
      "8\n"
     ]
    }
   ],
   "source": [
    "#to get number of items in set\n",
    "thisset={'two', 'one', 'four', 'nine', 'six', 'eight', 'three', 'seven'}\n",
    "print(len(thisset))\n"
   ]
  },
  {
   "cell_type": "code",
   "execution_count": 28,
   "metadata": {},
   "outputs": [
    {
     "name": "stdout",
     "output_type": "stream",
     "text": [
      "{'two', 'one', 'nine', 'six', 'eight', 'three', 'seven'}\n"
     ]
    }
   ],
   "source": [
    "#To remove an item in a set use remove(), or discard()method\n",
    "thisset={'two', 'one', 'four', 'nine', 'six', 'eight', 'three', 'seven'}\n",
    "thisset.remove(\"four\")\n",
    "print(thisset)"
   ]
  },
  {
   "cell_type": "code",
   "execution_count": 29,
   "metadata": {},
   "outputs": [
    {
     "name": "stdout",
     "output_type": "stream",
     "text": [
      "{'two', 'one', 'nine', 'six', 'eight', 'three', 'seven'}\n"
     ]
    }
   ],
   "source": [
    "#using discard method\n",
    "thisset={'two', 'one', 'four', 'nine', 'six', 'eight', 'three', 'seven'}\n",
    "thisset.discard(\"four\")\n",
    "print(thisset)"
   ]
  },
  {
   "cell_type": "code",
   "execution_count": 33,
   "metadata": {},
   "outputs": [
    {
     "name": "stdout",
     "output_type": "stream",
     "text": [
      "before pop operation: {'two', 'one', 'four', 'nine', 'six', 'eight', 'three', 'seven'}\n",
      "poped element is: two\n",
      "after pop operation {'one', 'four', 'nine', 'six', 'eight', 'three', 'seven'}\n"
     ]
    }
   ],
   "source": [
    "#pop() method can also be used to remove element\n",
    "thisset={'two', 'one', 'four', 'nine', 'six', 'eight', 'three', 'seven'}\n",
    "print(\"before pop operation:\",thisset)\n",
    "x=thisset.pop()\n",
    "print(\"poped element is:\",x)\n",
    "print(\"after pop operation\",thisset)"
   ]
  },
  {
   "cell_type": "code",
   "execution_count": 34,
   "metadata": {},
   "outputs": [
    {
     "name": "stdout",
     "output_type": "stream",
     "text": [
      "set()\n"
     ]
    }
   ],
   "source": [
    "#clear() method is used to clear the set and make it empty\n",
    "thisset={'two', 'one', 'four', 'nine', 'six', 'eight', 'three', 'seven'}\n",
    "thisset.clear()\n",
    "print(thisset)"
   ]
  },
  {
   "cell_type": "code",
   "execution_count": 35,
   "metadata": {},
   "outputs": [
    {
     "ename": "NameError",
     "evalue": "name 'thisset' is not defined",
     "output_type": "error",
     "traceback": [
      "\u001b[1;31m---------------------------------------------------------------------------\u001b[0m",
      "\u001b[1;31mNameError\u001b[0m                                 Traceback (most recent call last)",
      "\u001b[1;32m<ipython-input-35-7f2f032b6304>\u001b[0m in \u001b[0;36m<module>\u001b[1;34m\u001b[0m\n\u001b[0;32m      2\u001b[0m \u001b[0mthisset\u001b[0m\u001b[1;33m=\u001b[0m\u001b[1;33m{\u001b[0m\u001b[1;34m'two'\u001b[0m\u001b[1;33m,\u001b[0m \u001b[1;34m'one'\u001b[0m\u001b[1;33m,\u001b[0m \u001b[1;34m'four'\u001b[0m\u001b[1;33m,\u001b[0m \u001b[1;34m'nine'\u001b[0m\u001b[1;33m,\u001b[0m \u001b[1;34m'six'\u001b[0m\u001b[1;33m,\u001b[0m \u001b[1;34m'eight'\u001b[0m\u001b[1;33m,\u001b[0m \u001b[1;34m'three'\u001b[0m\u001b[1;33m,\u001b[0m \u001b[1;34m'seven'\u001b[0m\u001b[1;33m}\u001b[0m\u001b[1;33m\u001b[0m\u001b[1;33m\u001b[0m\u001b[0m\n\u001b[0;32m      3\u001b[0m \u001b[1;32mdel\u001b[0m \u001b[0mthisset\u001b[0m\u001b[1;33m\u001b[0m\u001b[1;33m\u001b[0m\u001b[0m\n\u001b[1;32m----> 4\u001b[1;33m \u001b[0mprint\u001b[0m\u001b[1;33m(\u001b[0m\u001b[0mthisset\u001b[0m\u001b[1;33m)\u001b[0m\u001b[1;33m\u001b[0m\u001b[1;33m\u001b[0m\u001b[0m\n\u001b[0m",
      "\u001b[1;31mNameError\u001b[0m: name 'thisset' is not defined"
     ]
    }
   ],
   "source": [
    "#to delete the set:\n",
    "thisset={'two', 'one', 'four', 'nine', 'six', 'eight', 'three', 'seven'}\n",
    "del thisset\n",
    "print(thisset)"
   ]
  },
  {
   "cell_type": "code",
   "execution_count": 37,
   "metadata": {},
   "outputs": [
    {
     "name": "stdout",
     "output_type": "stream",
     "text": [
      "{1, 2, 3, 4, 'C', 'A', 'D', 'B'}\n"
     ]
    }
   ],
   "source": [
    "#to join two sets:\n",
    "set1={\"A\",\"B\",\"C\",\"D\"}\n",
    "set2={1,2,3,4}\n",
    "set3=set1.union(set2)\n",
    "print(set3)"
   ]
  },
  {
   "cell_type": "code",
   "execution_count": 38,
   "metadata": {},
   "outputs": [
    {
     "name": "stdout",
     "output_type": "stream",
     "text": [
      "{1, 2, 3, 4, 'C', 'A', 'D', 'B'}\n"
     ]
    }
   ],
   "source": [
    "#even update methiod is used to join two sets:\n",
    "set1={\"A\",\"B\",\"C\",\"D\"}\n",
    "set2={1,2,3,4}\n",
    "set1.update(set2)\n",
    "print(set1)"
   ]
  },
  {
   "cell_type": "code",
   "execution_count": 39,
   "metadata": {},
   "outputs": [
    {
     "name": "stdout",
     "output_type": "stream",
     "text": [
      "{'efg', 'abc', 'lmn'}\n"
     ]
    }
   ],
   "source": [
    "set4=set((\"abc\",\"efg\",\"lmn\"))\n",
    "print(set4)"
   ]
  },
  {
   "cell_type": "code",
   "execution_count": null,
   "metadata": {},
   "outputs": [],
   "source": []
  },
  {
   "cell_type": "markdown",
   "metadata": {},
   "source": [
    "Q4\n"
   ]
  },
  {
   "cell_type": "code",
   "execution_count": 53,
   "metadata": {},
   "outputs": [
    {
     "name": "stdout",
     "output_type": "stream",
     "text": [
      "4\n"
     ]
    }
   ],
   "source": [
    "def missingnumber(a):\n",
    "    n=len(a)\n",
    "    total=(n+1)*(n+2)/2\n",
    "    sumofa=sum(a)\n",
    "    return total-sumofa\n",
    "\n",
    "a=[1,2,3,5,6,7,8]\n",
    "miss=int(missingnumber(a))\n",
    "print(miss)\n"
   ]
  },
  {
   "cell_type": "markdown",
   "metadata": {},
   "source": [
    "Q5."
   ]
  },
  {
   "cell_type": "code",
   "execution_count": 52,
   "metadata": {},
   "outputs": [
    {
     "name": "stdout",
     "output_type": "stream",
     "text": [
      "Intially list is: [1, 2, 3, 4, 7, 2, 5, 1, 6, 3, 7, 8]\n",
      "After removing duplicate values: [1, 2, 3, 4, 7, 5, 6, 8]\n"
     ]
    }
   ],
   "source": [
    "\n",
    "lst1=[1,2,3,4,7,2,5,1,6,3,7,8]\n",
    "print(\"Intially list is:\",lst1)\n",
    "abc=list(dict.fromkeys(lst1))\n",
    "# abc.reverse()\n",
    "print(\"After removing duplicate values:\",abc)"
   ]
  }
 ],
 "metadata": {
  "kernelspec": {
   "display_name": "Python 3",
   "language": "python",
   "name": "python3"
  },
  "language_info": {
   "codemirror_mode": {
    "name": "ipython",
    "version": 3
   },
   "file_extension": ".py",
   "mimetype": "text/x-python",
   "name": "python",
   "nbconvert_exporter": "python",
   "pygments_lexer": "ipython3",
   "version": "3.7.6"
  }
 },
 "nbformat": 4,
 "nbformat_minor": 4
}

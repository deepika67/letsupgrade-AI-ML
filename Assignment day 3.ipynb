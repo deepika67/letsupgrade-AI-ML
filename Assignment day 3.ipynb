{
 "cells": [
  {
   "cell_type": "markdown",
   "metadata": {},
   "source": [
    "Q1. write a program to substract two complex numbers in python"
   ]
  },
  {
   "cell_type": "code",
   "execution_count": null,
   "metadata": {},
   "outputs": [],
   "source": []
  },
  {
   "cell_type": "code",
   "execution_count": 8,
   "metadata": {},
   "outputs": [
    {
     "name": "stdout",
     "output_type": "stream",
     "text": [
      "(1+1j)\n"
     ]
    }
   ],
   "source": [
    "z1=2+3j\n",
    "z2=1+2j\n",
    "print(z1-z2)"
   ]
  },
  {
   "cell_type": "markdown",
   "metadata": {},
   "source": [
    "Q2.write a program to find the fourth root of a number"
   ]
  },
  {
   "cell_type": "code",
   "execution_count": 7,
   "metadata": {},
   "outputs": [
    {
     "name": "stdout",
     "output_type": "stream",
     "text": [
      "Enter the number:2\n",
      "16\n"
     ]
    }
   ],
   "source": [
    "num=int(input(\"Enter the number:\"))\n",
    "fourthroot=num**4\n",
    "print(fourthroot)"
   ]
  },
  {
   "cell_type": "markdown",
   "metadata": {},
   "source": [
    "Q3.write a program to swap two numbers in python with the help of a temporary variable"
   ]
  },
  {
   "cell_type": "code",
   "execution_count": 13,
   "metadata": {},
   "outputs": [
    {
     "name": "stdout",
     "output_type": "stream",
     "text": [
      "Enter the first number:5\n",
      "Enter the second number:10\n",
      "before swapping the numbers:\n",
      "num1 is: 5\n",
      "num2 is: 10\n",
      "after swaping\n",
      "num1 is: 10\n",
      "num2 is: 5\n"
     ]
    }
   ],
   "source": [
    "num1=int(input(\"Enter the first number:\"))\n",
    "num2=int(input(\"Enter the second number:\"))\n",
    "print(\"before swapping the numbers:\")\n",
    "print(\"num1 is:\",num1)\n",
    "print(\"num2 is:\",num2)\n",
    "temp=num1\n",
    "num1=num2\n",
    "num2=temp\n",
    "print(\"after swaping\")\n",
    "print(\"num1 is:\",num1)\n",
    "print(\"num2 is:\",num2)"
   ]
  },
  {
   "cell_type": "markdown",
   "metadata": {},
   "source": [
    "Q4.write a program to swap two numbers in python without using a temporary variable"
   ]
  },
  {
   "cell_type": "code",
   "execution_count": 15,
   "metadata": {},
   "outputs": [
    {
     "name": "stdout",
     "output_type": "stream",
     "text": [
      "Enter the first number:4\n",
      "Enter the second number:8\n",
      "before swapping the numbers:\n",
      "num1 is: 4\n",
      "num2 is: 8\n",
      "after swaping\n",
      "num1 is: 8\n",
      "num2 is: 4\n"
     ]
    }
   ],
   "source": [
    "num1=int(input(\"Enter the first number:\"))\n",
    "num2=int(input(\"Enter the second number:\"))\n",
    "print(\"before swapping the numbers:\")\n",
    "print(\"num1 is:\",num1)\n",
    "print(\"num2 is:\",num2)\n",
    "num1,num2=num2,num1\n",
    "print(\"after swaping\")\n",
    "print(\"num1 is:\",num1)\n",
    "print(\"num2 is:\",num2)"
   ]
  },
  {
   "cell_type": "markdown",
   "metadata": {},
   "source": [
    "Q5.write a program to convert fahrenite to kelvin and celsius both"
   ]
  },
  {
   "cell_type": "code",
   "execution_count": 17,
   "metadata": {},
   "outputs": [
    {
     "name": "stdout",
     "output_type": "stream",
     "text": [
      "Enter the temperature in fahrenite:75\n",
      "temperature in celsius is: 23.88888888888889\n",
      "temperature in kelvin is: 297.03888888888895\n"
     ]
    }
   ],
   "source": [
    "fahrenite=int(input(\"Enter the temperature in fahrenite:\"))\n",
    "celsius=(fahrenite-32)*5/9\n",
    "kelvin=(fahrenite+459.67)*5/9\n",
    "print(\"temperature in celsius is:\",celsius)\n",
    "print(\"temperature in kelvin is:\",kelvin)"
   ]
  },
  {
   "cell_type": "markdown",
   "metadata": {},
   "source": [
    "Q6.Write a program to demonstrate all the available data types in python. use type() function"
   ]
  },
  {
   "cell_type": "code",
   "execution_count": 25,
   "metadata": {},
   "outputs": [
    {
     "name": "stdout",
     "output_type": "stream",
     "text": [
      "<class 'int'> 67\n",
      "<class 'float'> 3.14\n",
      "<class 'complex'> (2+3j)\n",
      "<class 'str'> Deepika\n",
      "<class 'bool'> True\n"
     ]
    }
   ],
   "source": [
    "intnum=67\n",
    "floatnum=3.14\n",
    "complexnum=2+3j\n",
    "stringnum=\"Deepika\"\n",
    "booleannum=True\n",
    "print(type(intnum),intnum)\n",
    "print(type(floatnum),floatnum)\n",
    "print(type(complexnum),complexnum)\n",
    "print(type(stringnum),stringnum)\n",
    "print(type(booleannum),booleannum)\n"
   ]
  },
  {
   "cell_type": "markdown",
   "metadata": {},
   "source": [
    "Q7.Create a markdown cell in jupyter and list the steps disussed in the session by Dr.Darshan Ingle Sir to create Github profile and upload githubs Assignment link "
   ]
  },
  {
   "cell_type": "markdown",
   "metadata": {},
   "source": [
    "step1: go to site www.github.com   \n",
    "step2:create the account by entering name,email and password and then signin   \n",
    "step3:create new public repository   \n",
    "step4:Click on new button and name the repository as letsupgrade-AI-ML   \n",
    "step5:and upload the assignment file in that repository by drag and drop or by selecting the file  \n",
    "step6:after file get uploaded copy the path of that assignmnet   \n",
    "step7:open the link of assignment submission   \n",
    "step8:fill all the details and in url section paste the path   \n",
    "step9:submit\n"
   ]
  },
  {
   "cell_type": "code",
   "execution_count": null,
   "metadata": {},
   "outputs": [],
   "source": []
  }
 ],
 "metadata": {
  "kernelspec": {
   "display_name": "Python 3",
   "language": "python",
   "name": "python3"
  },
  "language_info": {
   "codemirror_mode": {
    "name": "ipython",
    "version": 3
   },
   "file_extension": ".py",
   "mimetype": "text/x-python",
   "name": "python",
   "nbconvert_exporter": "python",
   "pygments_lexer": "ipython3",
   "version": "3.7.6"
  }
 },
 "nbformat": 4,
 "nbformat_minor": 4
}
